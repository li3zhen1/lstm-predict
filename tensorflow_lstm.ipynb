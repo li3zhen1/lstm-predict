{
 "cells": [
  {
   "cell_type": "code",
   "execution_count": 8,
   "metadata": {},
   "outputs": [],
   "source": [
    "import numpy as np\n",
    "import pandas as pd\n",
    "\n",
    "AAPL_CSV = 'archive/Technology Companies/AAPL.csv'"
   ]
  },
  {
   "cell_type": "code",
   "execution_count": 9,
   "metadata": {},
   "outputs": [],
   "source": [
    "def load_data(csv_path):\n",
    "    data=pd.read_csv(csv_path)\n",
    "    data=data.copy()\n",
    "    return data"
   ]
  },
  {
   "cell_type": "code",
   "execution_count": 10,
   "metadata": {},
   "outputs": [],
   "source": [
    "def preprocess(data):\n",
    "    \"\"\"\n",
    "    ## Prepare the data\n",
    "    \"\"\"\n",
    "    # data[\"Change %\"]=data[\"Change\"].str.replace(\"%\",\"\") # edit change column to make it numeric\n",
    "    # data[\"Change %\"]=pd.to_numeric(data[\"Change %\"]) \n",
    "    data['Date'] = pd.to_datetime(data.Date)\n",
    "    # data['Close']=0\n",
    "    # for i in range(1, len(data)):\n",
    "    #   data.loc[i, 'Close'] = data.loc[i-1, 'Open'] # create close column\n",
    "    # data['Volume']=data['Vol'].apply(lambda x: float(x[:-1]))\n",
    "    return data\n",
    "\n"
   ]
  },
  {
   "cell_type": "code",
   "execution_count": 11,
   "metadata": {},
   "outputs": [
    {
     "data": {
      "text/html": [
       "<div>\n",
       "<style scoped>\n",
       "    .dataframe tbody tr th:only-of-type {\n",
       "        vertical-align: middle;\n",
       "    }\n",
       "\n",
       "    .dataframe tbody tr th {\n",
       "        vertical-align: top;\n",
       "    }\n",
       "\n",
       "    .dataframe thead th {\n",
       "        text-align: right;\n",
       "    }\n",
       "</style>\n",
       "<table border=\"1\" class=\"dataframe\">\n",
       "  <thead>\n",
       "    <tr style=\"text-align: right;\">\n",
       "      <th></th>\n",
       "      <th>Date</th>\n",
       "      <th>High</th>\n",
       "      <th>Low</th>\n",
       "      <th>Open</th>\n",
       "      <th>Close</th>\n",
       "      <th>Volume</th>\n",
       "    </tr>\n",
       "  </thead>\n",
       "  <tbody>\n",
       "    <tr>\n",
       "      <th>0</th>\n",
       "      <td>2006-01-03</td>\n",
       "      <td>2.669643</td>\n",
       "      <td>2.580357</td>\n",
       "      <td>2.585000</td>\n",
       "      <td>2.669643</td>\n",
       "      <td>807234400.0</td>\n",
       "    </tr>\n",
       "    <tr>\n",
       "      <th>1</th>\n",
       "      <td>2006-01-04</td>\n",
       "      <td>2.713571</td>\n",
       "      <td>2.660714</td>\n",
       "      <td>2.683214</td>\n",
       "      <td>2.677500</td>\n",
       "      <td>619603600.0</td>\n",
       "    </tr>\n",
       "    <tr>\n",
       "      <th>2</th>\n",
       "      <td>2006-01-05</td>\n",
       "      <td>2.675000</td>\n",
       "      <td>2.633929</td>\n",
       "      <td>2.672500</td>\n",
       "      <td>2.656429</td>\n",
       "      <td>449422400.0</td>\n",
       "    </tr>\n",
       "    <tr>\n",
       "      <th>3</th>\n",
       "      <td>2006-01-06</td>\n",
       "      <td>2.739286</td>\n",
       "      <td>2.662500</td>\n",
       "      <td>2.687500</td>\n",
       "      <td>2.725000</td>\n",
       "      <td>704457600.0</td>\n",
       "    </tr>\n",
       "    <tr>\n",
       "      <th>4</th>\n",
       "      <td>2006-01-07</td>\n",
       "      <td>2.699375</td>\n",
       "      <td>2.634375</td>\n",
       "      <td>2.657054</td>\n",
       "      <td>2.682143</td>\n",
       "      <td>645179500.0</td>\n",
       "    </tr>\n",
       "    <tr>\n",
       "      <th>...</th>\n",
       "      <td>...</td>\n",
       "      <td>...</td>\n",
       "      <td>...</td>\n",
       "      <td>...</td>\n",
       "      <td>...</td>\n",
       "      <td>...</td>\n",
       "    </tr>\n",
       "    <tr>\n",
       "      <th>5431</th>\n",
       "      <td>2020-11-16</td>\n",
       "      <td>120.989998</td>\n",
       "      <td>118.150002</td>\n",
       "      <td>118.919998</td>\n",
       "      <td>120.300003</td>\n",
       "      <td>91183000.0</td>\n",
       "    </tr>\n",
       "    <tr>\n",
       "      <th>5432</th>\n",
       "      <td>2020-11-17</td>\n",
       "      <td>120.669998</td>\n",
       "      <td>118.959999</td>\n",
       "      <td>119.550003</td>\n",
       "      <td>119.389999</td>\n",
       "      <td>74271000.0</td>\n",
       "    </tr>\n",
       "    <tr>\n",
       "      <th>5433</th>\n",
       "      <td>2020-11-18</td>\n",
       "      <td>119.820000</td>\n",
       "      <td>118.000000</td>\n",
       "      <td>118.610001</td>\n",
       "      <td>118.029999</td>\n",
       "      <td>76322100.0</td>\n",
       "    </tr>\n",
       "    <tr>\n",
       "      <th>5434</th>\n",
       "      <td>2020-11-19</td>\n",
       "      <td>119.059998</td>\n",
       "      <td>116.809998</td>\n",
       "      <td>117.589996</td>\n",
       "      <td>118.639999</td>\n",
       "      <td>74113000.0</td>\n",
       "    </tr>\n",
       "    <tr>\n",
       "      <th>5435</th>\n",
       "      <td>2020-11-20</td>\n",
       "      <td>118.769997</td>\n",
       "      <td>117.290001</td>\n",
       "      <td>118.639999</td>\n",
       "      <td>117.339996</td>\n",
       "      <td>73391400.0</td>\n",
       "    </tr>\n",
       "  </tbody>\n",
       "</table>\n",
       "<p>5436 rows × 6 columns</p>\n",
       "</div>"
      ],
      "text/plain": [
       "            Date        High         Low        Open       Close       Volume\n",
       "0     2006-01-03    2.669643    2.580357    2.585000    2.669643  807234400.0\n",
       "1     2006-01-04    2.713571    2.660714    2.683214    2.677500  619603600.0\n",
       "2     2006-01-05    2.675000    2.633929    2.672500    2.656429  449422400.0\n",
       "3     2006-01-06    2.739286    2.662500    2.687500    2.725000  704457600.0\n",
       "4     2006-01-07    2.699375    2.634375    2.657054    2.682143  645179500.0\n",
       "...          ...         ...         ...         ...         ...          ...\n",
       "5431  2020-11-16  120.989998  118.150002  118.919998  120.300003   91183000.0\n",
       "5432  2020-11-17  120.669998  118.959999  119.550003  119.389999   74271000.0\n",
       "5433  2020-11-18  119.820000  118.000000  118.610001  118.029999   76322100.0\n",
       "5434  2020-11-19  119.059998  116.809998  117.589996  118.639999   74113000.0\n",
       "5435  2020-11-20  118.769997  117.290001  118.639999  117.339996   73391400.0\n",
       "\n",
       "[5436 rows x 6 columns]"
      ]
     },
     "execution_count": 11,
     "metadata": {},
     "output_type": "execute_result"
    }
   ],
   "source": [
    "def create_date_table(start='2006-01-03', end='2020-11-20'):\n",
    "    df = pd.DataFrame({\"Date\": pd.date_range(start, end)})\n",
    "    return df\n",
    "\n",
    "# fill the empty data with 10 days moving average.\n",
    "def fill_missing(data):\n",
    "    data = data[[\"Date\", \"High\", \"Low\", \"Open\", \"Close\", \"Volume\"]]\n",
    "    date_data = create_date_table()\n",
    "    df = date_data.merge(data, left_on=\"Date\", right_on=\"Date\", how=\"left\")\n",
    "    df = df[[\"Date\", \"High\", \"Low\", \"Open\", \"Close\", \"Volume\"]]\n",
    "    for column in df.columns:\n",
    "        if df[column].dtypes != \"<M8[ns]\":\n",
    "            df[column + \"_MA\"] = df[column].rolling(10, min_periods=1).mean()\n",
    "            df[column].fillna(df[column + \"_MA\"], inplace=True)\n",
    "    df[\"Date\"] = df[\"Date\"].astype(str)\n",
    "    filled_df = df[[\"Date\", \"High\", \"Low\", \"Open\", \"Close\", \"Volume\"]]\n",
    "    return filled_df\n",
    "\n",
    "data = load_data(AAPL_CSV)\n",
    "data = preprocess(data)\n",
    "data = fill_missing(data)\n",
    "data"
   ]
  },
  {
   "cell_type": "code",
   "execution_count": 12,
   "metadata": {},
   "outputs": [],
   "source": [
    "from sklearn.preprocessing import MinMaxScaler\n",
    "from keras.models import Sequential\n",
    "from keras.layers import Dense , LSTM\n",
    "from sklearn.metrics import mean_squared_error"
   ]
  },
  {
   "cell_type": "code",
   "execution_count": 13,
   "metadata": {},
   "outputs": [
    {
     "data": {
      "text/html": [
       "<div>\n",
       "<style scoped>\n",
       "    .dataframe tbody tr th:only-of-type {\n",
       "        vertical-align: middle;\n",
       "    }\n",
       "\n",
       "    .dataframe tbody tr th {\n",
       "        vertical-align: top;\n",
       "    }\n",
       "\n",
       "    .dataframe thead th {\n",
       "        text-align: right;\n",
       "    }\n",
       "</style>\n",
       "<table border=\"1\" class=\"dataframe\">\n",
       "  <thead>\n",
       "    <tr style=\"text-align: right;\">\n",
       "      <th></th>\n",
       "      <th>Open</th>\n",
       "    </tr>\n",
       "  </thead>\n",
       "  <tbody>\n",
       "    <tr>\n",
       "      <th>0</th>\n",
       "      <td>2.585000</td>\n",
       "    </tr>\n",
       "    <tr>\n",
       "      <th>1</th>\n",
       "      <td>2.683214</td>\n",
       "    </tr>\n",
       "    <tr>\n",
       "      <th>2</th>\n",
       "      <td>2.672500</td>\n",
       "    </tr>\n",
       "    <tr>\n",
       "      <th>3</th>\n",
       "      <td>2.687500</td>\n",
       "    </tr>\n",
       "    <tr>\n",
       "      <th>4</th>\n",
       "      <td>2.657054</td>\n",
       "    </tr>\n",
       "    <tr>\n",
       "      <th>...</th>\n",
       "      <td>...</td>\n",
       "    </tr>\n",
       "    <tr>\n",
       "      <th>5431</th>\n",
       "      <td>118.919998</td>\n",
       "    </tr>\n",
       "    <tr>\n",
       "      <th>5432</th>\n",
       "      <td>119.550003</td>\n",
       "    </tr>\n",
       "    <tr>\n",
       "      <th>5433</th>\n",
       "      <td>118.610001</td>\n",
       "    </tr>\n",
       "    <tr>\n",
       "      <th>5434</th>\n",
       "      <td>117.589996</td>\n",
       "    </tr>\n",
       "    <tr>\n",
       "      <th>5435</th>\n",
       "      <td>118.639999</td>\n",
       "    </tr>\n",
       "  </tbody>\n",
       "</table>\n",
       "<p>5436 rows × 1 columns</p>\n",
       "</div>"
      ],
      "text/plain": [
       "            Open\n",
       "0       2.585000\n",
       "1       2.683214\n",
       "2       2.672500\n",
       "3       2.687500\n",
       "4       2.657054\n",
       "...          ...\n",
       "5431  118.919998\n",
       "5432  119.550003\n",
       "5433  118.610001\n",
       "5434  117.589996\n",
       "5435  118.639999\n",
       "\n",
       "[5436 rows x 1 columns]"
      ]
     },
     "execution_count": 13,
     "metadata": {},
     "output_type": "execute_result"
    }
   ],
   "source": [
    "training_set= data[['Open']]\n",
    "training_set=pd.DataFrame(training_set)\n",
    "training_set"
   ]
  },
  {
   "cell_type": "code",
   "execution_count": 15,
   "metadata": {},
   "outputs": [
    {
     "data": {
      "text/plain": [
       "array([[0.00543308],\n",
       "       [0.00615661],\n",
       "       [0.00607768],\n",
       "       ...,\n",
       "       [0.86017646],\n",
       "       [0.85266221],\n",
       "       [0.86039746]])"
      ]
     },
     "execution_count": 15,
     "metadata": {},
     "output_type": "execute_result"
    }
   ],
   "source": [
    "scaler=MinMaxScaler(feature_range=(0,1))\n",
    "training_set_scaler=scaler.fit_transform(np.array(training_set).reshape(-1,1))\n",
    "training_set_scaler"
   ]
  },
  {
   "cell_type": "code",
   "execution_count": 17,
   "metadata": {},
   "outputs": [],
   "source": [
    "train_size1= int(len(training_set_scaler)*0.65)\n",
    "test_size1=int(len(training_set_scaler))-train_size1\n",
    "train_data1,test_data1=training_set_scaler[0:train_size1,:],training_set_scaler[train_size1:len(data),:1]"
   ]
  },
  {
   "cell_type": "code",
   "execution_count": 18,
   "metadata": {},
   "outputs": [
    {
     "data": {
      "text/plain": [
       "3533"
      ]
     },
     "execution_count": 18,
     "metadata": {},
     "output_type": "execute_result"
    }
   ],
   "source": [
    "train_size1"
   ]
  },
  {
   "cell_type": "code",
   "execution_count": 19,
   "metadata": {},
   "outputs": [],
   "source": [
    "def create_dataset(dataset,time_step=1):\n",
    "    dataX, dataY = [], []\n",
    "    for i in range(len(dataset)-time_step-1):\n",
    "        a = dataset[i:(i+time_step), 0]   ###i=0, 0,1,2,3-----99   100\n",
    "        dataX.append(a)\n",
    "        dataY.append(dataset[i + time_step, 0])\n",
    "    return np.array(dataX), np.array(dataY)"
   ]
  },
  {
   "cell_type": "code",
   "execution_count": 20,
   "metadata": {},
   "outputs": [],
   "source": [
    "time_step=100\n",
    "x_train, y_train=create_dataset(train_data1, time_step)\n",
    "x_test, y_test= create_dataset(test_data1, time_step)"
   ]
  },
  {
   "cell_type": "code",
   "execution_count": 21,
   "metadata": {},
   "outputs": [
    {
     "name": "stdout",
     "output_type": "stream",
     "text": [
      "Model: \"sequential\"\n",
      "_________________________________________________________________\n",
      " Layer (type)                Output Shape              Param #   \n",
      "=================================================================\n",
      " lstm (LSTM)                 (None, 100, 50)           10400     \n",
      "                                                                 \n",
      " lstm_1 (LSTM)               (None, 100, 50)           20200     \n",
      "                                                                 \n",
      " lstm_2 (LSTM)               (None, 50)                20200     \n",
      "                                                                 \n",
      " dense (Dense)               (None, 1)                 51        \n",
      "                                                                 \n",
      "=================================================================\n",
      "Total params: 50851 (198.64 KB)\n",
      "Trainable params: 50851 (198.64 KB)\n",
      "Non-trainable params: 0 (0.00 Byte)\n",
      "_________________________________________________________________\n"
     ]
    }
   ],
   "source": [
    "x_train = x_train.reshape(x_train.shape[0],x_train.shape[1] , 1)\n",
    "x_test = x_test.reshape(x_test.shape[0],x_test.shape[1] , 1)\n",
    "\n",
    "model = Sequential()\n",
    "model.add(LSTM(50, return_sequences=True, input_shape=(100,1)))\n",
    "model.add(LSTM(50, return_sequences=True, input_shape=(100,1)))\n",
    "model.add(LSTM(50))\n",
    "model.add(Dense(1))\n",
    "model.compile(loss='mean_squared_error', optimizer='adam', metrics='acc')\n",
    "\n",
    "model.summary()"
   ]
  },
  {
   "cell_type": "code",
   "execution_count": 22,
   "metadata": {},
   "outputs": [
    {
     "name": "stdout",
     "output_type": "stream",
     "text": [
      "Epoch 1/75\n",
      "54/54 [==============================] - 8s 102ms/step - loss: 9.5248e-04 - acc: 2.9138e-04 - val_loss: 0.0019 - val_acc: 5.5494e-04\n",
      "Epoch 2/75\n",
      "54/54 [==============================] - 5s 90ms/step - loss: 2.3509e-05 - acc: 2.9138e-04 - val_loss: 0.0027 - val_acc: 5.5494e-04\n",
      "Epoch 3/75\n",
      "54/54 [==============================] - 5s 90ms/step - loss: 2.1685e-05 - acc: 2.9138e-04 - val_loss: 0.0026 - val_acc: 5.5494e-04\n",
      "Epoch 4/75\n",
      "54/54 [==============================] - 5s 90ms/step - loss: 2.0431e-05 - acc: 2.9138e-04 - val_loss: 0.0028 - val_acc: 5.5494e-04\n",
      "Epoch 5/75\n",
      "54/54 [==============================] - 5s 93ms/step - loss: 1.9898e-05 - acc: 2.9138e-04 - val_loss: 0.0027 - val_acc: 5.5494e-04\n",
      "Epoch 6/75\n",
      "54/54 [==============================] - 5s 94ms/step - loss: 1.9731e-05 - acc: 2.9138e-04 - val_loss: 0.0025 - val_acc: 5.5494e-04\n",
      "Epoch 7/75\n",
      "54/54 [==============================] - 5s 93ms/step - loss: 1.8615e-05 - acc: 2.9138e-04 - val_loss: 0.0023 - val_acc: 5.5494e-04\n",
      "Epoch 8/75\n",
      "54/54 [==============================] - 5s 93ms/step - loss: 1.8613e-05 - acc: 2.9138e-04 - val_loss: 0.0023 - val_acc: 5.5494e-04\n",
      "Epoch 9/75\n",
      "54/54 [==============================] - 5s 94ms/step - loss: 1.8233e-05 - acc: 2.9138e-04 - val_loss: 0.0016 - val_acc: 5.5494e-04\n",
      "Epoch 10/75\n",
      "54/54 [==============================] - 5s 94ms/step - loss: 1.8505e-05 - acc: 2.9138e-04 - val_loss: 0.0014 - val_acc: 5.5494e-04\n",
      "Epoch 11/75\n",
      "54/54 [==============================] - 5s 94ms/step - loss: 1.7048e-05 - acc: 2.9138e-04 - val_loss: 0.0016 - val_acc: 5.5494e-04\n",
      "Epoch 12/75\n",
      "54/54 [==============================] - 5s 95ms/step - loss: 1.7323e-05 - acc: 2.9138e-04 - val_loss: 0.0013 - val_acc: 5.5494e-04\n",
      "Epoch 13/75\n",
      "54/54 [==============================] - 5s 97ms/step - loss: 1.6438e-05 - acc: 2.9138e-04 - val_loss: 0.0011 - val_acc: 5.5494e-04\n",
      "Epoch 14/75\n",
      "54/54 [==============================] - 5s 97ms/step - loss: 1.8953e-05 - acc: 2.9138e-04 - val_loss: 0.0013 - val_acc: 5.5494e-04\n",
      "Epoch 15/75\n",
      "54/54 [==============================] - 5s 98ms/step - loss: 1.7076e-05 - acc: 2.9138e-04 - val_loss: 0.0014 - val_acc: 5.5494e-04\n",
      "Epoch 16/75\n",
      "54/54 [==============================] - 5s 97ms/step - loss: 1.4277e-05 - acc: 2.9138e-04 - val_loss: 0.0014 - val_acc: 5.5494e-04\n",
      "Epoch 17/75\n",
      "54/54 [==============================] - 5s 99ms/step - loss: 1.6435e-05 - acc: 2.9138e-04 - val_loss: 9.3309e-04 - val_acc: 5.5494e-04\n",
      "Epoch 18/75\n",
      "54/54 [==============================] - 5s 100ms/step - loss: 1.4764e-05 - acc: 2.9138e-04 - val_loss: 9.5851e-04 - val_acc: 5.5494e-04\n",
      "Epoch 19/75\n",
      "54/54 [==============================] - 5s 99ms/step - loss: 1.3988e-05 - acc: 2.9138e-04 - val_loss: 0.0010 - val_acc: 5.5494e-04\n",
      "Epoch 20/75\n",
      "54/54 [==============================] - 5s 100ms/step - loss: 1.3717e-05 - acc: 2.9138e-04 - val_loss: 0.0010 - val_acc: 5.5494e-04\n",
      "Epoch 21/75\n",
      "54/54 [==============================] - 5s 101ms/step - loss: 1.3033e-05 - acc: 2.9138e-04 - val_loss: 8.5851e-04 - val_acc: 5.5494e-04\n",
      "Epoch 22/75\n",
      "54/54 [==============================] - 5s 99ms/step - loss: 1.5997e-05 - acc: 2.9138e-04 - val_loss: 8.0852e-04 - val_acc: 5.5494e-04\n",
      "Epoch 23/75\n",
      "54/54 [==============================] - 5s 100ms/step - loss: 1.2645e-05 - acc: 2.9138e-04 - val_loss: 7.8079e-04 - val_acc: 5.5494e-04\n",
      "Epoch 24/75\n",
      "54/54 [==============================] - 5s 101ms/step - loss: 1.6490e-05 - acc: 2.9138e-04 - val_loss: 0.0010 - val_acc: 5.5494e-04\n",
      "Epoch 25/75\n",
      "54/54 [==============================] - 6s 102ms/step - loss: 1.1767e-05 - acc: 2.9138e-04 - val_loss: 8.0451e-04 - val_acc: 5.5494e-04\n",
      "Epoch 26/75\n",
      "54/54 [==============================] - 6s 102ms/step - loss: 1.2930e-05 - acc: 2.9138e-04 - val_loss: 7.4394e-04 - val_acc: 5.5494e-04\n",
      "Epoch 27/75\n",
      "54/54 [==============================] - 6s 102ms/step - loss: 1.2217e-05 - acc: 2.9138e-04 - val_loss: 9.4535e-04 - val_acc: 5.5494e-04\n",
      "Epoch 28/75\n",
      "54/54 [==============================] - 6s 103ms/step - loss: 1.0747e-05 - acc: 2.9138e-04 - val_loss: 7.1193e-04 - val_acc: 5.5494e-04\n",
      "Epoch 29/75\n",
      "54/54 [==============================] - 6s 104ms/step - loss: 1.1966e-05 - acc: 2.9138e-04 - val_loss: 5.6412e-04 - val_acc: 5.5494e-04\n",
      "Epoch 30/75\n",
      "54/54 [==============================] - 6s 103ms/step - loss: 1.0720e-05 - acc: 2.9138e-04 - val_loss: 6.8920e-04 - val_acc: 5.5494e-04\n",
      "Epoch 31/75\n",
      "54/54 [==============================] - 6s 106ms/step - loss: 1.2138e-05 - acc: 2.9138e-04 - val_loss: 7.1863e-04 - val_acc: 5.5494e-04\n",
      "Epoch 32/75\n",
      "54/54 [==============================] - 6s 104ms/step - loss: 1.1687e-05 - acc: 2.9138e-04 - val_loss: 4.9214e-04 - val_acc: 5.5494e-04\n",
      "Epoch 33/75\n",
      "54/54 [==============================] - 6s 104ms/step - loss: 1.1580e-05 - acc: 2.9138e-04 - val_loss: 0.0011 - val_acc: 5.5494e-04\n",
      "Epoch 34/75\n",
      "54/54 [==============================] - 6s 109ms/step - loss: 1.1685e-05 - acc: 2.9138e-04 - val_loss: 5.3655e-04 - val_acc: 5.5494e-04\n",
      "Epoch 35/75\n",
      "54/54 [==============================] - 6s 107ms/step - loss: 1.1376e-05 - acc: 2.9138e-04 - val_loss: 3.7565e-04 - val_acc: 5.5494e-04\n",
      "Epoch 36/75\n",
      "54/54 [==============================] - 6s 108ms/step - loss: 1.4191e-05 - acc: 2.9138e-04 - val_loss: 4.2579e-04 - val_acc: 5.5494e-04\n",
      "Epoch 37/75\n",
      "54/54 [==============================] - 6s 110ms/step - loss: 1.0160e-05 - acc: 2.9138e-04 - val_loss: 7.6479e-04 - val_acc: 5.5494e-04\n",
      "Epoch 38/75\n",
      "54/54 [==============================] - 6s 110ms/step - loss: 1.0164e-05 - acc: 2.9138e-04 - val_loss: 4.9627e-04 - val_acc: 5.5494e-04\n",
      "Epoch 39/75\n",
      "54/54 [==============================] - 6s 110ms/step - loss: 1.0880e-05 - acc: 2.9138e-04 - val_loss: 6.5415e-04 - val_acc: 5.5494e-04\n",
      "Epoch 40/75\n",
      "54/54 [==============================] - 6s 109ms/step - loss: 9.4410e-06 - acc: 2.9138e-04 - val_loss: 4.8840e-04 - val_acc: 5.5494e-04\n",
      "Epoch 41/75\n",
      "54/54 [==============================] - 6s 113ms/step - loss: 9.0185e-06 - acc: 2.9138e-04 - val_loss: 4.1203e-04 - val_acc: 5.5494e-04\n",
      "Epoch 42/75\n",
      "54/54 [==============================] - 6s 112ms/step - loss: 8.9471e-06 - acc: 2.9138e-04 - val_loss: 5.8481e-04 - val_acc: 5.5494e-04\n",
      "Epoch 43/75\n",
      "54/54 [==============================] - 6s 114ms/step - loss: 1.0239e-05 - acc: 2.9138e-04 - val_loss: 6.0695e-04 - val_acc: 5.5494e-04\n",
      "Epoch 44/75\n",
      "54/54 [==============================] - 6s 114ms/step - loss: 9.9132e-06 - acc: 2.9138e-04 - val_loss: 2.7058e-04 - val_acc: 5.5494e-04\n",
      "Epoch 45/75\n",
      "54/54 [==============================] - 6s 113ms/step - loss: 1.0641e-05 - acc: 2.9138e-04 - val_loss: 4.1164e-04 - val_acc: 5.5494e-04\n",
      "Epoch 46/75\n",
      "54/54 [==============================] - 6s 114ms/step - loss: 8.6770e-06 - acc: 2.9138e-04 - val_loss: 4.9284e-04 - val_acc: 5.5494e-04\n",
      "Epoch 47/75\n",
      "54/54 [==============================] - 6s 115ms/step - loss: 8.2874e-06 - acc: 2.9138e-04 - val_loss: 3.9318e-04 - val_acc: 5.5494e-04\n",
      "Epoch 48/75\n",
      "54/54 [==============================] - 6s 116ms/step - loss: 9.3509e-06 - acc: 2.9138e-04 - val_loss: 8.1519e-04 - val_acc: 5.5494e-04\n",
      "Epoch 49/75\n",
      "54/54 [==============================] - 6s 116ms/step - loss: 9.5324e-06 - acc: 2.9138e-04 - val_loss: 4.2051e-04 - val_acc: 5.5494e-04\n",
      "Epoch 50/75\n",
      "54/54 [==============================] - 6s 119ms/step - loss: 8.9654e-06 - acc: 2.9138e-04 - val_loss: 4.4356e-04 - val_acc: 5.5494e-04\n",
      "Epoch 51/75\n",
      "54/54 [==============================] - 6s 118ms/step - loss: 8.7783e-06 - acc: 2.9138e-04 - val_loss: 4.6588e-04 - val_acc: 5.5494e-04\n",
      "Epoch 52/75\n",
      "54/54 [==============================] - 6s 120ms/step - loss: 7.9540e-06 - acc: 2.9138e-04 - val_loss: 3.3962e-04 - val_acc: 5.5494e-04\n",
      "Epoch 53/75\n",
      "54/54 [==============================] - 7s 122ms/step - loss: 9.8216e-06 - acc: 2.9138e-04 - val_loss: 3.7008e-04 - val_acc: 5.5494e-04\n",
      "Epoch 54/75\n",
      "54/54 [==============================] - 6s 120ms/step - loss: 8.8922e-06 - acc: 2.9138e-04 - val_loss: 3.4967e-04 - val_acc: 5.5494e-04\n",
      "Epoch 55/75\n",
      "54/54 [==============================] - 6s 119ms/step - loss: 9.0794e-06 - acc: 2.9138e-04 - val_loss: 4.3326e-04 - val_acc: 5.5494e-04\n",
      "Epoch 56/75\n",
      "54/54 [==============================] - 6s 119ms/step - loss: 9.4642e-06 - acc: 2.9138e-04 - val_loss: 4.8156e-04 - val_acc: 5.5494e-04\n",
      "Epoch 57/75\n",
      "54/54 [==============================] - 7s 122ms/step - loss: 8.2400e-06 - acc: 2.9138e-04 - val_loss: 6.0859e-04 - val_acc: 5.5494e-04\n",
      "Epoch 58/75\n",
      "54/54 [==============================] - 6s 121ms/step - loss: 8.0957e-06 - acc: 2.9138e-04 - val_loss: 3.1875e-04 - val_acc: 5.5494e-04\n",
      "Epoch 59/75\n",
      "54/54 [==============================] - 7s 121ms/step - loss: 7.2919e-06 - acc: 2.9138e-04 - val_loss: 5.1721e-04 - val_acc: 5.5494e-04\n",
      "Epoch 60/75\n",
      "54/54 [==============================] - 7s 125ms/step - loss: 7.2234e-06 - acc: 2.9138e-04 - val_loss: 2.8864e-04 - val_acc: 5.5494e-04\n",
      "Epoch 61/75\n",
      "54/54 [==============================] - 6s 119ms/step - loss: 9.6986e-06 - acc: 2.9138e-04 - val_loss: 5.6926e-04 - val_acc: 5.5494e-04\n",
      "Epoch 62/75\n",
      "54/54 [==============================] - 6s 114ms/step - loss: 8.4319e-06 - acc: 2.9138e-04 - val_loss: 3.0867e-04 - val_acc: 5.5494e-04\n",
      "Epoch 63/75\n",
      "54/54 [==============================] - 6s 111ms/step - loss: 9.0497e-06 - acc: 2.9138e-04 - val_loss: 6.6573e-04 - val_acc: 5.5494e-04\n",
      "Epoch 64/75\n",
      "54/54 [==============================] - 6s 111ms/step - loss: 7.7479e-06 - acc: 2.9138e-04 - val_loss: 2.8162e-04 - val_acc: 5.5494e-04\n",
      "Epoch 65/75\n",
      "54/54 [==============================] - 6s 111ms/step - loss: 7.7181e-06 - acc: 2.9138e-04 - val_loss: 5.1893e-04 - val_acc: 5.5494e-04\n",
      "Epoch 66/75\n",
      "54/54 [==============================] - 6s 110ms/step - loss: 7.9834e-06 - acc: 2.9138e-04 - val_loss: 7.0937e-04 - val_acc: 5.5494e-04\n",
      "Epoch 67/75\n",
      "54/54 [==============================] - 6s 112ms/step - loss: 1.0562e-05 - acc: 2.9138e-04 - val_loss: 4.8689e-04 - val_acc: 5.5494e-04\n",
      "Epoch 68/75\n",
      "54/54 [==============================] - 6s 113ms/step - loss: 7.1398e-06 - acc: 2.9138e-04 - val_loss: 1.9866e-04 - val_acc: 5.5494e-04\n",
      "Epoch 69/75\n",
      "54/54 [==============================] - 6s 114ms/step - loss: 9.6952e-06 - acc: 2.9138e-04 - val_loss: 3.6047e-04 - val_acc: 5.5494e-04\n",
      "Epoch 70/75\n",
      "54/54 [==============================] - 6s 113ms/step - loss: 6.9300e-06 - acc: 2.9138e-04 - val_loss: 3.7818e-04 - val_acc: 5.5494e-04\n",
      "Epoch 71/75\n",
      "54/54 [==============================] - 6s 115ms/step - loss: 8.1868e-06 - acc: 2.9138e-04 - val_loss: 5.2495e-04 - val_acc: 5.5494e-04\n",
      "Epoch 72/75\n",
      "54/54 [==============================] - 6s 113ms/step - loss: 7.1944e-06 - acc: 2.9138e-04 - val_loss: 3.6275e-04 - val_acc: 5.5494e-04\n",
      "Epoch 73/75\n",
      "54/54 [==============================] - 6s 116ms/step - loss: 8.3102e-06 - acc: 2.9138e-04 - val_loss: 1.9489e-04 - val_acc: 5.5494e-04\n",
      "Epoch 74/75\n",
      "54/54 [==============================] - 6s 117ms/step - loss: 6.8613e-06 - acc: 2.9138e-04 - val_loss: 4.0172e-04 - val_acc: 5.5494e-04\n",
      "Epoch 75/75\n",
      "54/54 [==============================] - 6s 117ms/step - loss: 7.1298e-06 - acc: 2.9138e-04 - val_loss: 2.3780e-04 - val_acc: 5.5494e-04\n"
     ]
    },
    {
     "data": {
      "text/plain": [
       "<keras.src.callbacks.History at 0x2a4b66e50>"
      ]
     },
     "execution_count": 22,
     "metadata": {},
     "output_type": "execute_result"
    }
   ],
   "source": [
    "model.fit(x_train, y_train, validation_data = (x_test, y_test), epochs = 75, batch_size = 64, verbose = 1)"
   ]
  },
  {
   "cell_type": "code",
   "execution_count": 23,
   "metadata": {},
   "outputs": [
    {
     "name": "stdout",
     "output_type": "stream",
     "text": [
      "108/108 [==============================] - 2s 14ms/step\n",
      "57/57 [==============================] - 1s 14ms/step\n"
     ]
    }
   ],
   "source": [
    "train_predict1=model.predict(x_train)\n",
    "test_predict1=model.predict(x_test)\n",
    "#Transformback to original form\n",
    "train_predict1=scaler.inverse_transform(train_predict1)\n",
    "test_predict1=scaler.inverse_transform(test_predict1)"
   ]
  },
  {
   "cell_type": "code",
   "execution_count": 24,
   "metadata": {},
   "outputs": [
    {
     "data": {
      "text/plain": [
       "15.443279049459562"
      ]
     },
     "execution_count": 24,
     "metadata": {},
     "output_type": "execute_result"
    }
   ],
   "source": [
    "import math\n",
    "\n",
    "math.sqrt(mean_squared_error(y_train,train_predict1))"
   ]
  },
  {
   "cell_type": "code",
   "execution_count": 25,
   "metadata": {},
   "outputs": [
    {
     "data": {
      "text/plain": [
       "53.51724858282547"
      ]
     },
     "execution_count": 25,
     "metadata": {},
     "output_type": "execute_result"
    }
   ],
   "source": [
    "math.sqrt(mean_squared_error(y_test,test_predict1))"
   ]
  },
  {
   "cell_type": "code",
   "execution_count": 27,
   "metadata": {},
   "outputs": [
    {
     "data": {
      "image/png": "[encoded data removed]",
      "text/plain": [
       "<Figure size 1000x500 with 1 Axes>"
      ]
     },
     "metadata": {},
     "output_type": "display_data"
    }
   ],
   "source": [
    "### Plotting\n",
    "# shift train predictions for plotting\n",
    "look_back = 100\n",
    "trainPredictPlot = np.empty_like(training_set_scaler)\n",
    "trainPredictPlot[:, :] = np.nan\n",
    "trainPredictPlot[look_back : len(train_predict1) + look_back, :] = train_predict1\n",
    "\n",
    "# shift test predictions for plotting\n",
    "testPredictPlot = np.empty_like(training_set_scaler)\n",
    "testPredictPlot[:, :] = np.nan\n",
    "testPredictPlot[\n",
    "    len(train_predict1) + (look_back * 2) + 1 : len(training_set) - 1, :\n",
    "] = test_predict1\n",
    "\n",
    "from matplotlib import pyplot as plt\n",
    "\n",
    "# plot baseline and predictions\n",
    "plt.figure(figsize=(10, 5))\n",
    "plt.plot(scaler.inverse_transform(training_set_scaler))\n",
    "plt.plot(trainPredictPlot)\n",
    "plt.plot(testPredictPlot)\n",
    "plt.show()"
   ]
  }
 ],
 "metadata": {
  "kernelspec": {
   "display_name": "3.11",
   "language": "python",
   "name": "python3"
  },
  "language_info": {
   "codemirror_mode": {
    "name": "ipython",
    "version": 3
   },
   "file_extension": ".py",
   "mimetype": "text/x-python",
   "name": "python",
   "nbconvert_exporter": "python",
   "pygments_lexer": "ipython3",
   "version": "3.11.0"
  }
 },
 "nbformat": 4,
 "nbformat_minor": 2
}
